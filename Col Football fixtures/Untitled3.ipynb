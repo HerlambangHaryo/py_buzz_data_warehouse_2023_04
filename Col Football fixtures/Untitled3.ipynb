{
 "cells": [
  {
   "cell_type": "code",
   "execution_count": 6,
   "id": "2b72923f",
   "metadata": {},
   "outputs": [
    {
     "name": "stdout",
     "output_type": "stream",
     "text": [
      "14. Team To Score First\n",
      "15. Team To Score Last\n",
      "16. Total - Home\n",
      "17. Total - Away\n",
      "56. Corners Asian Handicap\n",
      "57. Home Corners Over/Under\n",
      "58. Away Corners Over/Under\n",
      "75. Last Corner\n",
      "76. First Corner\n",
      "80. Cards Over/Under\n",
      "81. Cards Asian Handicap\n",
      "82. Home Team Total Cards\n",
      "83. Away Team Total Cards\n",
      "91. Total Goals (3 way)\n",
      "97. First Goal Method\n",
      "99. To Score A Penalty\n",
      "100. To Miss A Penalty\n"
     ]
    }
   ],
   "source": [
    "import mysql.connector\n",
    "\n",
    "# -----------------------------------------------------------------\n",
    "host=\"localhost\"\n",
    "user=\"root\"\n",
    "database=\"pr_mmbuzz_2022_06\" \n",
    "mydb = mysql.connector.connect( host=host, user=user, password=\"\", database=database )\n",
    "# -----------------------------------------------------------------\n",
    "query1 = ' select ' \n",
    "query1 += ' bet_id, bet '  \n",
    "query1 += ' from bets_old '   \n",
    "query1 += ' where category is null '    \n",
    "query1 += ' group by bet_id,bet '    \n",
    "# -----------------------------------------------------------------\n",
    "mycursor = mydb.cursor() \n",
    "mycursor.execute(query1)\n",
    "myresult1 = mycursor.fetchall()\n",
    "# -----------------------------------------------------------------\n",
    "len_myresult1 = len(myresult1) \n",
    "# -----------------------------------------------------------------\n",
    "for x in myresult1: \n",
    "    bet_id = str(x[0])\n",
    "    bet = x[1]\n",
    "    print(bet_id + \". \" + bet) \n",
    "# -----------------------------------------------------------------\n",
    "# -----------------------------------------------------------------\n",
    "# -----------------------------------------------------------------\n",
    "# -----------------------------------------------------------------\n",
    "# -----------------------------------------------------------------"
   ]
  },
  {
   "cell_type": "code",
   "execution_count": 13,
   "id": "5bd65ba9",
   "metadata": {},
   "outputs": [
    {
     "name": "stdout",
     "output_type": "stream",
     "text": [
      "end_corners_over_under_over_875\n"
     ]
    }
   ],
   "source": [
    "# -----------------------------------------------------------------\n",
    "end_col = \"end_corners_over_under_over_875\"\n",
    "print(end_col)\n",
    "# -----------------------------------------------------------------"
   ]
  },
  {
   "cell_type": "code",
   "execution_count": 14,
   "id": "3443657c",
   "metadata": {},
   "outputs": [
    {
     "name": "stdout",
     "output_type": "stream",
     "text": [
      "ALTER TABLE `football_fixtures` ADD `end_corners_over_under_under_875` DECIMAL(5,3) NULL DEFAULT NULL AFTER `end_corners_over_under_over_875`;\n",
      "ALTER TABLE `football_fixtures` ADD `end_corners_over_under_over_900` DECIMAL(5,3) NULL DEFAULT NULL AFTER `end_corners_over_under_under_875`;\n",
      "ALTER TABLE `football_fixtures` ADD `end_corners_over_under_under_900` DECIMAL(5,3) NULL DEFAULT NULL AFTER `end_corners_over_under_over_900`;\n",
      "ALTER TABLE `football_fixtures` ADD `end_corners_over_under_over_925` DECIMAL(5,3) NULL DEFAULT NULL AFTER `end_corners_over_under_under_900`;\n",
      "ALTER TABLE `football_fixtures` ADD `end_corners_over_under_under_925` DECIMAL(5,3) NULL DEFAULT NULL AFTER `end_corners_over_under_over_925`;\n",
      "ALTER TABLE `football_fixtures` ADD `end_corners_over_under_over_950` DECIMAL(5,3) NULL DEFAULT NULL AFTER `end_corners_over_under_under_925`;\n",
      "ALTER TABLE `football_fixtures` ADD `end_corners_over_under_under_950` DECIMAL(5,3) NULL DEFAULT NULL AFTER `end_corners_over_under_over_950`;\n",
      "ALTER TABLE `football_fixtures` ADD `end_corners_over_under_over_975` DECIMAL(5,3) NULL DEFAULT NULL AFTER `end_corners_over_under_under_950`;\n",
      "ALTER TABLE `football_fixtures` ADD `end_corners_over_under_under_975` DECIMAL(5,3) NULL DEFAULT NULL AFTER `end_corners_over_under_over_975`;\n",
      "ALTER TABLE `football_fixtures` ADD `end_corners_over_under_over_1000` DECIMAL(5,3) NULL DEFAULT NULL AFTER `end_corners_over_under_under_975`;\n",
      "ALTER TABLE `football_fixtures` ADD `end_corners_over_under_under_1000` DECIMAL(5,3) NULL DEFAULT NULL AFTER `end_corners_over_under_over_1000`;\n",
      "ALTER TABLE `football_fixtures` ADD `end_corners_over_under_over_1025` DECIMAL(5,3) NULL DEFAULT NULL AFTER `end_corners_over_under_under_1000`;\n",
      "ALTER TABLE `football_fixtures` ADD `end_corners_over_under_under_1025` DECIMAL(5,3) NULL DEFAULT NULL AFTER `end_corners_over_under_over_1025`;\n",
      "ALTER TABLE `football_fixtures` ADD `end_corners_over_under_over_1050` DECIMAL(5,3) NULL DEFAULT NULL AFTER `end_corners_over_under_under_1025`;\n",
      "ALTER TABLE `football_fixtures` ADD `end_corners_over_under_under_1050` DECIMAL(5,3) NULL DEFAULT NULL AFTER `end_corners_over_under_over_1050`;\n",
      "ALTER TABLE `football_fixtures` ADD `end_corners_over_under_over_1075` DECIMAL(5,3) NULL DEFAULT NULL AFTER `end_corners_over_under_under_1050`;\n",
      "ALTER TABLE `football_fixtures` ADD `end_corners_over_under_under_1075` DECIMAL(5,3) NULL DEFAULT NULL AFTER `end_corners_over_under_over_1075`;\n",
      "ALTER TABLE `football_fixtures` ADD `end_corners_over_under_over_1100` DECIMAL(5,3) NULL DEFAULT NULL AFTER `end_corners_over_under_under_1075`;\n",
      "ALTER TABLE `football_fixtures` ADD `end_corners_over_under_under_1100` DECIMAL(5,3) NULL DEFAULT NULL AFTER `end_corners_over_under_over_1100`;\n",
      "ALTER TABLE `football_fixtures` ADD `end_corners_over_under_over_1125` DECIMAL(5,3) NULL DEFAULT NULL AFTER `end_corners_over_under_under_1100`;\n",
      "ALTER TABLE `football_fixtures` ADD `end_corners_over_under_under_1125` DECIMAL(5,3) NULL DEFAULT NULL AFTER `end_corners_over_under_over_1125`;\n",
      "ALTER TABLE `football_fixtures` ADD `end_corners_over_under_over_1150` DECIMAL(5,3) NULL DEFAULT NULL AFTER `end_corners_over_under_under_1125`;\n",
      "ALTER TABLE `football_fixtures` ADD `end_corners_over_under_under_1150` DECIMAL(5,3) NULL DEFAULT NULL AFTER `end_corners_over_under_over_1150`;\n",
      "ALTER TABLE `football_fixtures` ADD `end_corners_over_under_over_1175` DECIMAL(5,3) NULL DEFAULT NULL AFTER `end_corners_over_under_under_1150`;\n",
      "ALTER TABLE `football_fixtures` ADD `end_corners_over_under_under_1175` DECIMAL(5,3) NULL DEFAULT NULL AFTER `end_corners_over_under_over_1175`;\n",
      "ALTER TABLE `football_fixtures` ADD `end_corners_over_under_over_1200` DECIMAL(5,3) NULL DEFAULT NULL AFTER `end_corners_over_under_under_1175`;\n",
      "ALTER TABLE `football_fixtures` ADD `end_corners_over_under_under_1200` DECIMAL(5,3) NULL DEFAULT NULL AFTER `end_corners_over_under_over_1200`;\n",
      "ALTER TABLE `football_fixtures` ADD `end_corners_over_under_over_1225` DECIMAL(5,3) NULL DEFAULT NULL AFTER `end_corners_over_under_under_1200`;\n",
      "ALTER TABLE `football_fixtures` ADD `end_corners_over_under_under_1225` DECIMAL(5,3) NULL DEFAULT NULL AFTER `end_corners_over_under_over_1225`;\n",
      "ALTER TABLE `football_fixtures` ADD `end_corners_over_under_over_1250` DECIMAL(5,3) NULL DEFAULT NULL AFTER `end_corners_over_under_under_1225`;\n",
      "ALTER TABLE `football_fixtures` ADD `end_corners_over_under_under_1250` DECIMAL(5,3) NULL DEFAULT NULL AFTER `end_corners_over_under_over_1250`;\n",
      "ALTER TABLE `football_fixtures` ADD `end_corners_over_under_over_1275` DECIMAL(5,3) NULL DEFAULT NULL AFTER `end_corners_over_under_under_1250`;\n",
      "ALTER TABLE `football_fixtures` ADD `end_corners_over_under_under_1275` DECIMAL(5,3) NULL DEFAULT NULL AFTER `end_corners_over_under_over_1275`;\n"
     ]
    }
   ],
   "source": [
    "import mysql.connector\n",
    "\n",
    "# ALTER TABLE `football_fixtures` ADD `aaa` DECIMAL(5,3) NULL DEFAULT NULL AFTER `end_exact_score`; \n",
    "\n",
    "# -----------------------------------------------------------------\n",
    "host=\"localhost\"\n",
    "user=\"root\"\n",
    "database=\"pr_mmbuzz_2022_06\" \n",
    "mydb = mysql.connector.connect( host=host, user=user, password=\"\", database=database )\n",
    "# -----------------------------------------------------------------\n",
    "query1 = ' select ' \n",
    "query1 += ' * '  \n",
    "query1 += ' from bets_old '   \n",
    "query1 += ' where  bet_id = 45 '    \n",
    "query1 += ' and  total > 15 '    \n",
    "query1 += ' order by total, id '    \n",
    "# -----------------------------------------------------------------\n",
    "mycursor = mydb.cursor() \n",
    "mycursor.execute(query1)\n",
    "myresult1 = mycursor.fetchall()\n",
    "# -----------------------------------------------------------------\n",
    "len_myresult1 = len(myresult1) \n",
    "# -----------------------------------------------------------------\n",
    "# for x in myresult1: \n",
    "#     columnx = x[5]\n",
    "    \n",
    "#     new_col = \"pre_\"+columnx\n",
    "#     query = \"ALTER TABLE `football_fixtures` ADD `\"+new_col+\"` DECIMAL(5,3) NULL DEFAULT NULL AFTER `\"+end_col+\"`;\"\n",
    "#     end_col = new_col\n",
    "#     print(query) \n",
    "#     mycursor.execute(query)\n",
    "#     mydb.commit()  \n",
    "# # -----------------------------------------------------------------\n",
    "# print(\"\")\n",
    "# -----------------------------------------------------------------\n",
    "for x in myresult1: \n",
    "    columnx = x[5]\n",
    "    \n",
    "    new_col = \"end_\"+columnx\n",
    "    query = \"ALTER TABLE `football_fixtures` ADD `\"+new_col+\"` DECIMAL(5,3) NULL DEFAULT NULL AFTER `\"+end_col+\"`;\"\n",
    "    end_col = new_col\n",
    "    print(query) \n",
    "    mycursor.execute(query)\n",
    "    mydb.commit()  \n",
    "# -----------------------------------------------------------------\n",
    "# -----------------------------------------------------------------\n",
    "# -----------------------------------------------------------------\n",
    "# -----------------------------------------------------------------"
   ]
  }
 ],
 "metadata": {
  "kernelspec": {
   "display_name": "Python 3 (ipykernel)",
   "language": "python",
   "name": "python3"
  },
  "language_info": {
   "codemirror_mode": {
    "name": "ipython",
    "version": 3
   },
   "file_extension": ".py",
   "mimetype": "text/x-python",
   "name": "python",
   "nbconvert_exporter": "python",
   "pygments_lexer": "ipython3",
   "version": "3.9.12"
  }
 },
 "nbformat": 4,
 "nbformat_minor": 5
}

{
 "cells": [
  {
   "cell_type": "code",
   "execution_count": 1,
   "id": "5ed71012",
   "metadata": {},
   "outputs": [
    {
     "name": "stdout",
     "output_type": "stream",
     "text": [
      "{'get': 'odds/bets', 'parameters': [], 'errors': [], 'results': 181, 'paging': {'current': 1, 'total': 1}, 'response': [{'id': 1, 'name': 'Match Winner'}, {'id': 2, 'name': 'Home/Away'}, {'id': 3, 'name': 'Second Half Winner'}, {'id': 4, 'name': 'Asian Handicap'}, {'id': 5, 'name': 'Goals Over/Under'}, {'id': 6, 'name': 'Goals Over/Under First Half'}, {'id': 7, 'name': 'HT/FT Double'}, {'id': 8, 'name': 'Both Teams Score'}, {'id': 9, 'name': 'Handicap Result'}, {'id': 10, 'name': 'Exact Score'}, {'id': 11, 'name': 'Highest Scoring Half'}, {'id': 12, 'name': 'Double Chance'}, {'id': 13, 'name': 'First Half Winner'}, {'id': 14, 'name': 'Team To Score First'}, {'id': 15, 'name': 'Team To Score Last'}, {'id': 16, 'name': 'Total - Home'}, {'id': 17, 'name': 'Total - Away'}, {'id': 18, 'name': 'Handicap Result - First Half'}, {'id': 19, 'name': 'Asian Handicap First Half'}, {'id': 20, 'name': 'Double Chance - First Half'}, {'id': 21, 'name': 'Odd/Even'}, {'id': 22, 'name': 'Odd/Even - First Half'}, {'id': 23, 'name': 'Home Odd/Even'}, {'id': 24, 'name': 'Results/Both Teams Score'}, {'id': 25, 'name': 'Result/Total Goals'}, {'id': 26, 'name': 'Goals Over/Under - Second Half'}, {'id': 27, 'name': 'Clean Sheet - Home'}, {'id': 28, 'name': 'Clean Sheet - Away'}, {'id': 29, 'name': 'Win to Nil - Home'}, {'id': 30, 'name': 'Win to Nil - Away'}, {'id': 31, 'name': 'Correct Score - First Half'}, {'id': 32, 'name': 'Win Both Halves'}, {'id': 33, 'name': 'Double Chance - Second Half'}, {'id': 34, 'name': 'Both Teams Score - First Half'}, {'id': 35, 'name': 'Both Teams To Score - Second Half'}, {'id': 36, 'name': 'Win To Nil'}, {'id': 37, 'name': 'Home win both halves'}, {'id': 38, 'name': 'Exact Goals Number'}, {'id': 39, 'name': 'To Win Either Half'}, {'id': 40, 'name': 'Home Team Exact Goals Number'}, {'id': 41, 'name': 'Away Team Exact Goals Number'}, {'id': 42, 'name': 'Second Half Exact Goals Number'}, {'id': 43, 'name': 'Home Team Score a Goal'}, {'id': 44, 'name': 'Away Team Score a Goal'}, {'id': 45, 'name': 'Corners Over Under'}, {'id': 46, 'name': 'Exact Goals Number - First Half'}, {'id': 47, 'name': 'Winning Margin'}, {'id': 48, 'name': 'To Score In Both Halves By Teams'}, {'id': 49, 'name': 'Total Goals/Both Teams To Score'}, {'id': 50, 'name': 'Goal Line'}, {'id': 51, 'name': 'Halftime Result/Total Goals'}, {'id': 52, 'name': 'Halftime Result/Both Teams Score'}, {'id': 53, 'name': 'Away win both halves'}, {'id': 54, 'name': 'First 10 min Winner'}, {'id': 55, 'name': 'Corners 1x2'}, {'id': 56, 'name': 'Corners Asian Handicap'}, {'id': 57, 'name': 'Home Corners Over/Under'}, {'id': 58, 'name': 'Away Corners Over/Under'}, {'id': 59, 'name': 'Own Goal'}, {'id': 60, 'name': 'Away Odd/Even'}, {'id': 61, 'name': 'To Qualify'}, {'id': 62, 'name': 'Correct Score - Second Half'}, {'id': 63, 'name': 'Odd/Even - Second Half'}, {'id': 72, 'name': 'Goal Line (1st Half)'}, {'id': 73, 'name': 'Both Teams to Score 1st Half - 2nd Half'}, {'id': 74, 'name': '10 Over/Under'}, {'id': 75, 'name': 'Last Corner'}, {'id': 76, 'name': 'First Corner'}, {'id': 77, 'name': 'Total Corners (1st Half)'}, {'id': 78, 'name': 'RTG_H1'}, {'id': 79, 'name': 'Cards European Handicap'}, {'id': 80, 'name': 'Cards Over/Under'}, {'id': 81, 'name': 'Cards Asian Handicap'}, {'id': 82, 'name': 'Home Team Total Cards'}, {'id': 83, 'name': 'Away Team Total Cards'}, {'id': 84, 'name': 'Total Corners (3 way) (1st Half)'}, {'id': 85, 'name': 'Total Corners (3 way)'}, {'id': 86, 'name': 'RCARD'}, {'id': 87, 'name': 'Total ShotOnGoal'}, {'id': 88, 'name': 'Home Total ShotOnGoal'}, {'id': 89, 'name': 'Away Total ShotOnGoal'}, {'id': 91, 'name': 'Total Goals (3 way)'}, {'id': 92, 'name': 'Anytime Goal Scorer'}, {'id': 93, 'name': 'First Goal Scorer'}, {'id': 94, 'name': 'Last Goal Scorer'}, {'id': 95, 'name': 'To Score Two or More Goals'}, {'id': 96, 'name': 'Last Goal Scorer'}, {'id': 97, 'name': 'First Goal Method'}, {'id': 99, 'name': 'To Score A Penalty'}, {'id': 100, 'name': 'To Miss A Penalty'}, {'id': 101, 'name': None}, {'id': 102, 'name': 'Player to be booked'}, {'id': 103, 'name': 'Player to be Sent Off'}, {'id': 104, 'name': 'Asian Handicap (2nd Half)'}, {'id': 105, 'name': 'Home Team Total Goals(1st Half)'}, {'id': 106, 'name': 'Away Team Total Goals(1st Half)'}, {'id': 107, 'name': 'Home Team Total Goals(2nd Half)'}, {'id': 108, 'name': 'Away Team Total Goals(2nd Half)'}, {'id': 109, 'name': 'Draw No Bet (1st Half)'}, {'id': 110, 'name': 'Scoring Draw'}, {'id': 111, 'name': 'Home team will score in both halves'}, {'id': 112, 'name': 'Away team will score in both halves'}, {'id': 113, 'name': 'Both Teams To Score in Both Halves'}, {'id': 114, 'name': 'Home Team Score a Goal (1st Half)'}, {'id': 115, 'name': 'Home Team Score a Goal (2nd Half)'}, {'id': 116, 'name': 'Away Team Score a Goal (1st Half)'}, {'id': 117, 'name': 'Away Team Score a Goal (2nd Half)'}, {'id': 118, 'name': 'Home Win/Over'}, {'id': 119, 'name': 'Home Win/Under'}, {'id': 120, 'name': 'Away Win/Over'}, {'id': 121, 'name': 'Away Win/Under'}, {'id': 122, 'name': 'Home team will win either half'}, {'id': 123, 'name': 'Away team will win either half'}, {'id': 124, 'name': 'Home Come From Behind and Win'}, {'id': 125, 'name': 'Corners Asian Handicap (1st Half)'}, {'id': 126, 'name': 'Corners Asian Handicap (2nd Half)'}, {'id': 127, 'name': 'Total Corners (2nd Half)'}, {'id': 128, 'name': 'Total Corners (3 way) (2nd Half)'}, {'id': 129, 'name': 'Away Come From Behind and Win'}, {'id': 130, 'name': 'Corners 1x2 (1st Half)'}, {'id': 131, 'name': 'Corners 1x2 (2nd Half)'}, {'id': 132, 'name': 'Home Total Corners (1st Half)'}, {'id': 133, 'name': 'Home Total Corners (2nd Half)'}, {'id': 134, 'name': 'Away Total Corners (1st Half)'}, {'id': 135, 'name': 'Away Total Corners (2nd Half)'}, {'id': 136, 'name': '1x2 - 15 minutes'}, {'id': 137, 'name': '1x2 - 60 minutes'}, {'id': 138, 'name': '1x2 - 75 minutes'}, {'id': 139, 'name': '1x2 - 30 minutes'}, {'id': 140, 'name': 'DC - 30 minutes'}, {'id': 141, 'name': 'DC - 15 minutes'}, {'id': 142, 'name': 'DC - 60 minutes'}, {'id': 143, 'name': 'DC - 75 minutes'}, {'id': 144, 'name': 'Goal in 1-15 minutes'}, {'id': 145, 'name': 'Goal in 16-30 minutes'}, {'id': 146, 'name': 'Goal in 31-45 minutes'}, {'id': 147, 'name': 'Goal in 46-60 minutes'}, {'id': 148, 'name': 'Goal in 61-75 minutes'}, {'id': 149, 'name': 'Goal in 76-90 minutes'}, {'id': 150, 'name': 'Home Team Yellow Cards'}, {'id': 151, 'name': 'Away Team Yellow Cards'}, {'id': 152, 'name': 'Yellow Asian Handicap'}, {'id': 153, 'name': 'Yellow Over/Under'}, {'id': 154, 'name': 'Yellow Double Chance'}, {'id': 155, 'name': 'Yellow Over/Under (1st Half)'}, {'id': 156, 'name': 'Yellow Over/Under (2nd Half)'}, {'id': 157, 'name': 'Yellow Odd/Even'}, {'id': 158, 'name': 'Yellow Cards 1x2'}, {'id': 159, 'name': 'Yellow Asian Handicap (1st Half)'}, {'id': 160, 'name': 'Yellow Asian Handicap (2nd Half)'}, {'id': 161, 'name': 'Yellow Cards 1x2 (1st Half)'}, {'id': 162, 'name': 'Yellow Cards 1x2 (2nd Half)'}, {'id': 163, 'name': 'Penalty Awarded'}, {'id': 164, 'name': 'Offsides Total'}, {'id': 165, 'name': 'Offsides 1x2'}, {'id': 166, 'name': 'Offsides Handicap'}, {'id': 167, 'name': 'Offsides Home Total'}, {'id': 168, 'name': 'Offsides Away Total'}, {'id': 169, 'name': 'Offsides Double Chance'}, {'id': 170, 'name': 'Fouls. Away Total'}, {'id': 171, 'name': 'Fouls. Home Total'}, {'id': 172, 'name': 'Fouls. Double Chance'}, {'id': 173, 'name': 'Fouls. Total'}, {'id': 174, 'name': 'Fouls. Handicap'}, {'id': 175, 'name': 'Fouls. 1x2'}, {'id': 176, 'name': 'ShotOnTarget 1x2'}, {'id': 177, 'name': 'ShotOnTarget Handicap'}, {'id': 178, 'name': 'ShotOnTarget Double Chance'}, {'id': 179, 'name': 'First Team to Score'}, {'id': 180, 'name': 'Last Team to Score'}, {'id': 181, 'name': 'European Handicap (2nd Half)'}, {'id': 182, 'name': 'Draw No Bet (2nd Half)'}, {'id': 183, 'name': 'Double Chance/Total'}, {'id': 184, 'name': 'To Score in Both Halves'}, {'id': 185, 'name': 'First Team to Score (3 way) 1st Half'}, {'id': 186, 'name': 'Total Goals Number By Ranges'}, {'id': 187, 'name': 'Total Goals By Ranges (1st Half)'}, {'id': 188, 'name': 'Clean Sheet'}, {'id': 189, 'name': 'To Advance Handicap'}, {'id': 190, 'name': 'Home Exact Goals Number (1st Half)'}, {'id': 191, 'name': 'Away Exact Goals Number (1st Half)'}]}\n"
     ]
    }
   ],
   "source": [
    "import requests\n",
    "\n",
    "url = \"https://api-football-v1.p.rapidapi.com/v3/odds/bets\"\n",
    "\n",
    "headers = {\n",
    "\t\"content-type\": \"application/octet-stream\",\n",
    "\t\"X-RapidAPI-Key\": \"3a67de8c25msha3a34a82f226748p10786ajsn27ba3644d902\",\n",
    "\t\"X-RapidAPI-Host\": \"api-football-v1.p.rapidapi.com\"\n",
    "}\n",
    "\n",
    "response = requests.get(url, headers=headers)\n",
    "\n",
    "print(response.json())"
   ]
  },
  {
   "cell_type": "code",
   "execution_count": 8,
   "id": "36205f11",
   "metadata": {},
   "outputs": [
    {
     "name": "stdout",
     "output_type": "stream",
     "text": [
      "Total rows : 38\n"
     ]
    }
   ],
   "source": [
    "import mysql.connector\n",
    "\n",
    "# -----------------------------------------------------------------\n",
    "host=\"localhost\"\n",
    "user=\"root\"\n",
    "database=\"pr_mmbuzz_2022_06\" \n",
    "mydb = mysql.connector.connect( host=host, user=user, password=\"\", database=database )\n",
    "# -----------------------------------------------------------------\n",
    "query = ' select ' \n",
    "query += ' bet_id '  \n",
    "query += ' from bets_old '   \n",
    "query += ' group by bet_id '   \n",
    "# -----------------------------------------------------------------\n",
    "mycursor = mydb.cursor() \n",
    "mycursor.execute(query)\n",
    "myresult = mycursor.fetchall()\n",
    "# -----------------------------------------------------------------\n",
    "print(\"Total rows : \" + str(len(myresult))) \n",
    "# ----------------------------------------------------------------- "
   ]
  },
  {
   "cell_type": "code",
   "execution_count": 12,
   "id": "8864abdb",
   "metadata": {},
   "outputs": [
    {
     "name": "stdout",
     "output_type": "stream",
     "text": [
      "1 Match Winner\n",
      "2 Home/Away\n",
      "3 Second Half Winner\n",
      "4 Asian Handicap\n",
      "5 Goals Over/Under\n",
      "6 Goals Over/Under First Half\n",
      "7 HT/FT Double\n",
      "8 Both Teams Score\n",
      "9 Handicap Result\n",
      "10 Exact Score\n",
      "11 Highest Scoring Half\n",
      "12 Double Chance\n",
      "13 First Half Winner\n",
      "14 Team To Score First\n",
      "15 Team To Score Last\n",
      "16 Total - Home\n",
      "17 Total - Away\n",
      "18 Handicap Result - First Half\n",
      "19 Asian Handicap First Half\n",
      "20 Double Chance - First Half\n",
      "21 Odd/Even\n",
      "22 Odd/Even - First Half\n",
      "23 Home Odd/Even\n",
      "24 Results/Both Teams Score\n",
      "25 Result/Total Goals\n",
      "26 Goals Over/Under - Second Half\n",
      "27 Clean Sheet - Home\n",
      "28 Clean Sheet - Away\n",
      "29 Win to Nil - Home\n",
      "30 Win to Nil - Away\n",
      "31 Correct Score - First Half\n",
      "32 Win Both Halves\n",
      "33 Double Chance - Second Half\n",
      "34 Both Teams Score - First Half\n",
      "35 Both Teams To Score - Second Half\n",
      "36 Win To Nil\n",
      "37 Home win both halves\n",
      "38 Exact Goals Number\n",
      "39 To Win Either Half\n",
      "40 Home Team Exact Goals Number\n",
      "41 Away Team Exact Goals Number\n",
      "42 Second Half Exact Goals Number\n",
      "43 Home Team Score a Goal\n",
      "44 Away Team Score a Goal\n",
      "45 Corners Over Under\n",
      "46 Exact Goals Number - First Half\n",
      "47 Winning Margin\n",
      "48 To Score In Both Halves By Teams\n",
      "49 Total Goals/Both Teams To Score\n",
      "50 Goal Line\n",
      "51 Halftime Result/Total Goals\n",
      "52 Halftime Result/Both Teams Score\n",
      "53 Away win both halves\n",
      "54 First 10 min Winner\n",
      "55 Corners 1x2\n",
      "56 Corners Asian Handicap\n",
      "57 Home Corners Over/Under\n",
      "58 Away Corners Over/Under\n",
      "59 Own Goal\n",
      "60 Away Odd/Even\n",
      "61 To Qualify\n",
      "62 Correct Score - Second Half\n",
      "63 Odd/Even - Second Half\n",
      "72 Goal Line (1st Half)\n",
      "73 Both Teams to Score 1st Half - 2nd Half\n",
      "74 10 Over/Under\n",
      "75 Last Corner\n",
      "76 First Corner\n",
      "77 Total Corners (1st Half)\n",
      "78 RTG_H1\n",
      "79 Cards European Handicap\n",
      "80 Cards Over/Under\n",
      "81 Cards Asian Handicap\n",
      "82 Home Team Total Cards\n",
      "83 Away Team Total Cards\n",
      "84 Total Corners (3 way) (1st Half)\n",
      "85 Total Corners (3 way)\n",
      "86 RCARD\n",
      "87 Total ShotOnGoal\n",
      "88 Home Total ShotOnGoal\n",
      "89 Away Total ShotOnGoal\n",
      "91 Total Goals (3 way)\n",
      "92 Anytime Goal Scorer\n",
      "93 First Goal Scorer\n",
      "94 Last Goal Scorer\n",
      "95 To Score Two or More Goals\n",
      "96 Last Goal Scorer\n",
      "97 First Goal Method\n",
      "99 To Score A Penalty\n",
      "100 To Miss A Penalty\n"
     ]
    },
    {
     "ename": "TypeError",
     "evalue": "can only concatenate str (not \"NoneType\") to str",
     "output_type": "error",
     "traceback": [
      "\u001b[1;31m---------------------------------------------------------------------------\u001b[0m",
      "\u001b[1;31mTypeError\u001b[0m                                 Traceback (most recent call last)",
      "Input \u001b[1;32mIn [12]\u001b[0m, in \u001b[0;36m<cell line: 6>\u001b[1;34m()\u001b[0m\n\u001b[0;32m      9\u001b[0m name \u001b[38;5;241m=\u001b[39m i[\u001b[38;5;124m'\u001b[39m\u001b[38;5;124mname\u001b[39m\u001b[38;5;124m'\u001b[39m]\n\u001b[0;32m     10\u001b[0m \u001b[38;5;66;03m# ---------------------------------------------------------\u001b[39;00m\n\u001b[0;32m     11\u001b[0m \u001b[38;5;66;03m# -------------------------------------------------\u001b[39;00m\n\u001b[1;32m---> 12\u001b[0m word \u001b[38;5;241m=\u001b[39m \u001b[43midx\u001b[49m\u001b[43m \u001b[49m\u001b[38;5;241;43m+\u001b[39;49m\u001b[43m \u001b[49m\u001b[38;5;124;43m\"\u001b[39;49m\u001b[38;5;124;43m \u001b[39;49m\u001b[38;5;124;43m\"\u001b[39;49m\u001b[43m \u001b[49m\u001b[38;5;241;43m+\u001b[39;49m\u001b[43m \u001b[49m\u001b[43mname\u001b[49m\n\u001b[0;32m     13\u001b[0m \u001b[38;5;28mprint\u001b[39m(word)\n",
      "\u001b[1;31mTypeError\u001b[0m: can only concatenate str (not \"NoneType\") to str"
     ]
    }
   ],
   "source": [
    "import json \n",
    "\n",
    "# ----------------------------------------------------------------- \n",
    "d = json.loads(response.text)\n",
    "# -----------------------------------------------------------------\n",
    "for i in d['response']:\n",
    "    # -------------------------------------------------------------\n",
    "    idx = str(i['id'])\n",
    "    name = i['name']\n",
    "    # -------------------------------------------------------------\n",
    "    query1 = ' select ' \n",
    "    query1 += ' bet_id '  \n",
    "    query1 += ' from bets_old '   \n",
    "    query1 += ' where bet_id = \"'+idx+'\" '   \n",
    "    # -------------------------------------------------------------\n",
    "    mycursor = mydb.cursor() \n",
    "    mycursor.execute(query1)\n",
    "    myresult1 = mycursor.fetchall()\n",
    "    # ------------------------------------------------------------- \n",
    "    print(\"Total rows : \" + str(len(myresult))) \n",
    "    # -------------------------------------------------------------\n",
    "    word = idx + \" \" + name\n",
    "    print(word)\n",
    "    # -------------------------------------------------------------\n",
    "    # -------------------------------------------------------------\n",
    "# ----------------------------------------------------------------- "
   ]
  },
  {
   "cell_type": "code",
   "execution_count": null,
   "id": "0e5574b0",
   "metadata": {},
   "outputs": [],
   "source": []
  }
 ],
 "metadata": {
  "kernelspec": {
   "display_name": "Python 3 (ipykernel)",
   "language": "python",
   "name": "python3"
  },
  "language_info": {
   "codemirror_mode": {
    "name": "ipython",
    "version": 3
   },
   "file_extension": ".py",
   "mimetype": "text/x-python",
   "name": "python",
   "nbconvert_exporter": "python",
   "pygments_lexer": "ipython3",
   "version": "3.9.12"
  }
 },
 "nbformat": 4,
 "nbformat_minor": 5
}

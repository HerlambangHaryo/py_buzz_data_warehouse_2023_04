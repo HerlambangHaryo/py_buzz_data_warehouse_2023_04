{
 "cells": [
  {
   "cell_type": "code",
   "execution_count": 1,
   "id": "f1420a28",
   "metadata": {},
   "outputs": [
    {
     "name": "stdout",
     "output_type": "stream",
     "text": [
      "Total rows : 3\n",
      "Trinidad-And-Tobago -- 19\n",
      "Dominican-Republic -- 18\n",
      "Northern-Ireland -- 16\n"
     ]
    }
   ],
   "source": [
    "import mysql.connector\n",
    "# -----------------------------------------------------------------\n",
    "# CHECK\n",
    "# -----------------------------------------------------------------\n",
    "col = 'name'\n",
    "# -----------------------------------------------------------------\n",
    "host=\"localhost\"\n",
    "user=\"root\"\n",
    "database=\"pr_mmbuzz_2022_06\" \n",
    "mydb = mysql.connector.connect( host=host, user=user, password=\"\", database=database )\n",
    "# -----------------------------------------------------------------\n",
    "query = ' select '\n",
    "query += col \n",
    "query += ' , CHAR_LENGTH(' + col + ') '  \n",
    "query += ' from countries '  \n",
    "query += ' where ' + col + ' is not null ' \n",
    "query += ' order by CHAR_LENGTH(' + col + ') desc ' \n",
    "query += ' limit 3 ' \n",
    "# -----------------------------------------------------------------\n",
    "mycursor = mydb.cursor() \n",
    "mycursor.execute(query)\n",
    "myresult = mycursor.fetchall()\n",
    "# -----------------------------------------------------------------\n",
    "print(\"Total rows : \" + str(len(myresult))) \n",
    "# -----------------------------------------------------------------\n",
    "for x in myresult:  \n",
    "    # -------------------------------------------------------------\n",
    "    col_name = str(x[0])\n",
    "    col_length = str(x[1])\n",
    "    # -------------------------------------------------------------\n",
    "    print(col_name + \" -- \" + col_length ) "
   ]
  },
  {
   "cell_type": "code",
   "execution_count": null,
   "id": "1caa438a",
   "metadata": {},
   "outputs": [],
   "source": [
    "import mysql.connector\n",
    "# -----------------------------------------------------------------\n",
    "# CHECK\n",
    "# -----------------------------------------------------------------\n",
    "col = 'name'\n",
    "# -----------------------------------------------------------------\n",
    "host=\"localhost\"\n",
    "user=\"root\"\n",
    "database=\"pr_mmbuzz_2022_06\" \n",
    "mydb = mysql.connector.connect( host=host, user=user, password=\"\", database=database )\n",
    "# -----------------------------------------------------------------\n",
    "query = ' select ' \n",
    "query += ' id '   \n",
    "query += ' , name '  \n",
    "query += ' , code '  \n",
    "query += ' from countries_old '   \n",
    "query += ' order id asc '  \n",
    "# -----------------------------------------------------------------\n",
    "mycursor = mydb.cursor() \n",
    "mycursor.execute(query)\n",
    "myresult = mycursor.fetchall()\n",
    "# -----------------------------------------------------------------\n",
    "print(\"Total rows : \" + str(len(myresult))) \n",
    "# -----------------------------------------------------------------\n",
    "for x in myresult:  \n",
    "    # -------------------------------------------------------------\n",
    "    idx = str(x[0])\n",
    "    name = str(x[1])\n",
    "    code = str(x[2])\n",
    "    # ------------------------------------------------------------- \n",
    "    insert = \" INSERT INTO `countries`(`id`, `name`, `code` \" \n",
    "    insert += \" ) VALUES ( \"\n",
    "    insert += \" '\"+idx+\"'  \"\n",
    "    insert += \" , '\"+name+\"'  \"\n",
    "    insert += \" , '\"+code+\"'  \"\n",
    "    insert += \" )  \"\n",
    "    mycursor.execute(insert)\n",
    "    mydb.commit()  \n",
    "    print(\"Row Inserted\")\n",
    "    # ------------------------------------------------------------- "
   ]
  }
 ],
 "metadata": {
  "kernelspec": {
   "display_name": "Python 3 (ipykernel)",
   "language": "python",
   "name": "python3"
  },
  "language_info": {
   "codemirror_mode": {
    "name": "ipython",
    "version": 3
   },
   "file_extension": ".py",
   "mimetype": "text/x-python",
   "name": "python",
   "nbconvert_exporter": "python",
   "pygments_lexer": "ipython3",
   "version": "3.9.12"
  }
 },
 "nbformat": 4,
 "nbformat_minor": 5
}

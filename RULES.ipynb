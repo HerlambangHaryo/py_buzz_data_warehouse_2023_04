{
 "cells": [
  {
   "cell_type": "code",
   "execution_count": null,
   "id": "4c39102a",
   "metadata": {},
   "outputs": [],
   "source": [
    "double to decimal(5,3)\n",
    "\n",
    "leagueapi_id \ttinyint(4) \n",
    "pre_ah_pattern \tvarchar(40) \n",
    "\n",
    "fixtureapi_id \tmediumint(8) \n",
    "\n",
    "fixture_status \tchar(20)\n",
    "fixture_elapsed \ttinyint(4)\n",
    "leagueapi_id \ttinyint(4)\n",
    "season \tyear(4)\n",
    "round \tvarchar(45)\n",
    "teams_home_id \tmediumint(8)\n",
    "teams_away_id \tmediumint(8)"
   ]
  }
 ],
 "metadata": {
  "kernelspec": {
   "display_name": "Python 3 (ipykernel)",
   "language": "python",
   "name": "python3"
  },
  "language_info": {
   "codemirror_mode": {
    "name": "ipython",
    "version": 3
   },
   "file_extension": ".py",
   "mimetype": "text/x-python",
   "name": "python",
   "nbconvert_exporter": "python",
   "pygments_lexer": "ipython3",
   "version": "3.9.12"
  }
 },
 "nbformat": 4,
 "nbformat_minor": 5
}

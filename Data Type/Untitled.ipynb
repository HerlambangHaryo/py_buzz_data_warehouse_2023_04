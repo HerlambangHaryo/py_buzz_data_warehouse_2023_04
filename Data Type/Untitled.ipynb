{
 "cells": [
  {
   "cell_type": "code",
   "execution_count": 1,
   "id": "658a9c99",
   "metadata": {},
   "outputs": [
    {
     "name": "stdout",
     "output_type": "stream",
     "text": [
      "CHAR Total rows : 3\n",
      "17 -- 2\n",
      "10 -- 2\n",
      "15 -- 2\n"
     ]
    }
   ],
   "source": [
    "import mysql.connector\n",
    "# -----------------------------------------------------------------\n",
    "# CHECK\n",
    "# -----------------------------------------------------------------\n",
    "col = 'fouls_home'\n",
    "# -----------------------------------------------------------------\n",
    "host=\"localhost\"\n",
    "user=\"root\"\n",
    "database=\"pr_mmbuzz_2022_06\" \n",
    "mydb = mysql.connector.connect( host=host, user=user, password=\"\", database=database )\n",
    "# -----------------------------------------------------------------\n",
    "query = ' select '\n",
    "query += col \n",
    "query += ' , CHAR_LENGTH(' + col + ') '  \n",
    "query += ' from football_fixturesx '  \n",
    "query += ' where ' + col + ' is not null ' \n",
    "query += ' order by CHAR_LENGTH(' + col + ') desc ' \n",
    "query += ' limit 3 ' \n",
    "# -----------------------------------------------------------------\n",
    "mycursor = mydb.cursor() \n",
    "mycursor.execute(query)\n",
    "myresult = mycursor.fetchall()\n",
    "# -----------------------------------------------------------------\n",
    "print(\"CHAR Total rows : \" + str(len(myresult))) \n",
    "# -----------------------------------------------------------------\n",
    "for x in myresult:  \n",
    "    # -------------------------------------------------------------\n",
    "    col_name = str(x[0])\n",
    "    col_length = str(x[1])\n",
    "    # -------------------------------------------------------------\n",
    "    print(col_name + \" -- \" + col_length ) "
   ]
  },
  {
   "cell_type": "code",
   "execution_count": 2,
   "id": "d587ea0b",
   "metadata": {},
   "outputs": [
    {
     "name": "stdout",
     "output_type": "stream",
     "text": [
      "Max Total rows : 3\n",
      "30\n",
      "29\n",
      "29\n"
     ]
    }
   ],
   "source": [
    "import mysql.connector\n",
    "# -----------------------------------------------------------------\n",
    "# CHECK\n",
    "# ----------------------------------------------------------------- \n",
    "# -----------------------------------------------------------------\n",
    "host=\"localhost\"\n",
    "user=\"root\"\n",
    "database=\"pr_mmbuzz_2022_06\" \n",
    "mydb = mysql.connector.connect( host=host, user=user, password=\"\", database=database )\n",
    "# -----------------------------------------------------------------\n",
    "query = ' select '\n",
    "query += col  \n",
    "query += ' from football_fixturesx '  \n",
    "query += ' where ' + col + ' is not null '  \n",
    "query += ' order by  ' + col + ' desc '\n",
    "query += ' limit 3 ' \n",
    "# ----------------------------------------------------------------- \n",
    "mycursor = mydb.cursor() \n",
    "mycursor.execute(query)\n",
    "myresult = mycursor.fetchall()\n",
    "# -----------------------------------------------------------------\n",
    "print(\"Max Total rows : \" + str(len(myresult))) \n",
    "# -----------------------------------------------------------------\n",
    "for x in myresult:  \n",
    "    # -------------------------------------------------------------\n",
    "    col_name = str(x[0]) \n",
    "    # -------------------------------------------------------------\n",
    "    print(col_name) "
   ]
  }
 ],
 "metadata": {
  "kernelspec": {
   "display_name": "Python 3 (ipykernel)",
   "language": "python",
   "name": "python3"
  },
  "language_info": {
   "codemirror_mode": {
    "name": "ipython",
    "version": 3
   },
   "file_extension": ".py",
   "mimetype": "text/x-python",
   "name": "python",
   "nbconvert_exporter": "python",
   "pygments_lexer": "ipython3",
   "version": "3.9.12"
  }
 },
 "nbformat": 4,
 "nbformat_minor": 5
}

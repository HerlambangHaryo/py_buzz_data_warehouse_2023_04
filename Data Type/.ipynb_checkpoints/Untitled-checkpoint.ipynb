{
 "cells": [
  {
   "cell_type": "code",
   "execution_count": 1,
   "id": "84068874",
   "metadata": {},
   "outputs": [
    {
     "name": "stdout",
     "output_type": "stream",
     "text": [
      "CHAR Total rows : 3\n",
      "106 -- 3\n",
      "106 -- 3\n",
      "241 -- 3\n"
     ]
    }
   ],
   "source": [
    "import mysql.connector\n",
    "# -----------------------------------------------------------------\n",
    "# CHECK\n",
    "# -----------------------------------------------------------------\n",
    "col = 'leagueapi_id'\n",
    "# -----------------------------------------------------------------\n",
    "host=\"localhost\"\n",
    "user=\"root\"\n",
    "database=\"pr_mmbuzz_2022_06\" \n",
    "mydb = mysql.connector.connect( host=host, user=user, password=\"\", database=database )\n",
    "# -----------------------------------------------------------------\n",
    "query = ' select '\n",
    "query += col \n",
    "query += ' , CHAR_LENGTH(' + col + ') '  \n",
    "query += ' from football_fixturesx '  \n",
    "query += ' where ' + col + ' is not null ' \n",
    "query += ' order by CHAR_LENGTH(' + col + ') desc ' \n",
    "query += ' limit 3 ' \n",
    "# -----------------------------------------------------------------\n",
    "mycursor = mydb.cursor() \n",
    "mycursor.execute(query)\n",
    "myresult = mycursor.fetchall()\n",
    "# -----------------------------------------------------------------\n",
    "print(\"CHAR Total rows : \" + str(len(myresult))) \n",
    "# -----------------------------------------------------------------\n",
    "for x in myresult:  \n",
    "    # -------------------------------------------------------------\n",
    "    col_name = str(x[0])\n",
    "    col_length = str(x[1])\n",
    "    # -------------------------------------------------------------\n",
    "    print(col_name + \" -- \" + col_length ) "
   ]
  },
  {
   "cell_type": "code",
   "execution_count": 4,
   "id": "6a8e41f1",
   "metadata": {},
   "outputs": [
    {
     "name": "stdout",
     "output_type": "stream",
     "text": [
      " select leagueapi_id from football_fixturesx  where leagueapi_id is not null  order by  leagueapi_id desc  limit 3 \n",
      "Max Total rows : 3\n",
      "960\n",
      "960\n",
      "960\n"
     ]
    }
   ],
   "source": [
    "import mysql.connector\n",
    "# -----------------------------------------------------------------\n",
    "# CHECK\n",
    "# ----------------------------------------------------------------- \n",
    "# -----------------------------------------------------------------\n",
    "host=\"localhost\"\n",
    "user=\"root\"\n",
    "database=\"pr_mmbuzz_2022_06\" \n",
    "mydb = mysql.connector.connect( host=host, user=user, password=\"\", database=database )\n",
    "# -----------------------------------------------------------------\n",
    "query = ' select '\n",
    "query += col  \n",
    "query += ' from football_fixturesx '  \n",
    "query += ' where ' + col + ' is not null '  \n",
    "query += ' order by  ' + col + ' desc '\n",
    "query += ' limit 3 ' \n",
    "# ----------------------------------------------------------------- \n",
    "mycursor = mydb.cursor() \n",
    "mycursor.execute(query)\n",
    "myresult = mycursor.fetchall()\n",
    "# -----------------------------------------------------------------\n",
    "print(\"Max Total rows : \" + str(len(myresult))) \n",
    "# -----------------------------------------------------------------\n",
    "for x in myresult:  \n",
    "    # -------------------------------------------------------------\n",
    "    col_name = str(x[0]) \n",
    "    # -------------------------------------------------------------\n",
    "    print(col_name) "
   ]
  }
 ],
 "metadata": {
  "kernelspec": {
   "display_name": "Python 3 (ipykernel)",
   "language": "python",
   "name": "python3"
  },
  "language_info": {
   "codemirror_mode": {
    "name": "ipython",
    "version": 3
   },
   "file_extension": ".py",
   "mimetype": "text/x-python",
   "name": "python",
   "nbconvert_exporter": "python",
   "pygments_lexer": "ipython3",
   "version": "3.9.12"
  }
 },
 "nbformat": 4,
 "nbformat_minor": 5
}

{
 "cells": [
  {
   "cell_type": "code",
   "execution_count": 1,
   "id": "2f229c82",
   "metadata": {},
   "outputs": [
    {
     "name": "stdout",
     "output_type": "stream",
     "text": [
      "Connect at: 2023-04-16 07:12:02\n"
     ]
    }
   ],
   "source": [
    "import datetime\n",
    "import mysql.connector\n",
    " \n",
    "host=\"localhost\"\n",
    "user=\"root\"\n",
    "database=\"pr_mmbuzz_2022_06\"\n",
    "\n",
    "mydb = mysql.connector.connect( host=host, user=user, password=\"\", database=database )\n",
    "\n",
    "datenow = datetime.datetime.now()\n",
    "datenow_onlydate = datenow.strftime(\"%Y-%m-%d %H:%M:%S\") \n",
    "status_connect = \"Connect at: \" + str(datenow_onlydate)\n",
    "print(status_connect)"
   ]
  },
  {
   "cell_type": "code",
   "execution_count": null,
   "id": "a7dd417f",
   "metadata": {},
   "outputs": [],
   "source": [
    "\n",
    "query = ' select '\n",
    "query += ' teams_home_id ' \n",
    "query += ' from football_fixtures ' \n",
    "query += ' group by teams_home_id ' \n",
    "\n",
    "mycursor = mydb.cursor() \n",
    "mycursor.execute(query)\n",
    "myresult = mycursor.fetchall()\n",
    "\n",
    "for x in myresult:  "
   ]
  }
 ],
 "metadata": {
  "kernelspec": {
   "display_name": "Python 3 (ipykernel)",
   "language": "python",
   "name": "python3"
  },
  "language_info": {
   "codemirror_mode": {
    "name": "ipython",
    "version": 3
   },
   "file_extension": ".py",
   "mimetype": "text/x-python",
   "name": "python",
   "nbconvert_exporter": "python",
   "pygments_lexer": "ipython3",
   "version": "3.9.12"
  }
 },
 "nbformat": 4,
 "nbformat_minor": 5
}
